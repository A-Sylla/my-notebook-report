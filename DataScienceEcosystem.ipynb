{
 "cells": [
  {
   "cell_type": "markdown",
   "id": "79016b5d-cb1d-4ccd-87ee-d249ef5f8cb5",
   "metadata": {},
   "source": [
    "# Data Science Tools and Ecosystem"
   ]
  },
  {
   "cell_type": "markdown",
   "id": "c92b702e-8786-4292-9d32-785c245d9e8a",
   "metadata": {},
   "source": [
    "In this notebook, Data Science Tools and Ecosystem are summarized."
   ]
  },
  {
   "cell_type": "markdown",
   "id": "195f3bda-7968-4e0d-aa2e-ba96eece1850",
   "metadata": {},
   "source": [
    "**Objectives:**\n",
    "\n",
    "- List popular languages for Data Science\n",
    "- Identify commonly used libraries in Data Science\n",
    "- Present tools used for Data Science\n",
    "- Demonstrate basic arithmetic operations in Python\n",
    "- Convert minutes to hours using Python\n"
   ]
  },
  {
   "cell_type": "markdown",
   "id": "66b40b9d-3cde-4272-ac94-ab2092685637",
   "metadata": {},
   "source": [
    "Some of the popular languages that Data Scientists use are:\n",
    "\n",
    "1. Python\n",
    "2. R\n",
    "3. SQL"
   ]
  },
  {
   "cell_type": "markdown",
   "id": "f1ea9b7d-2002-42f4-9fc3-82011d23842d",
   "metadata": {},
   "source": [
    "Some of the commonly used libraries used by Data Scientists include:\n",
    "\n",
    "1. Pandas\n",
    "2. NumPy\n",
    "3. Matplotlib\n",
    "4. Scikit-learn\n",
    "5. TensorFlow\n",
    "6. Keras\n"
   ]
  },
  {
   "cell_type": "markdown",
   "id": "01222528-8457-486f-8988-9f4ed5a51f5c",
   "metadata": {},
   "source": [
    "| Data Science Tools       |\n",
    "|--------------------------|\n",
    "| Jupyter Notebook         |\n",
    "| RStudio                  |\n",
    "| Apache Zeppelin          |\n"
   ]
  },
  {
   "cell_type": "markdown",
   "id": "1f034f71-2adb-4a86-98ac-6ae5f4d7824e",
   "metadata": {},
   "source": [
    "### Below are a few examples of evaluating arithmetic expressions in Python\n",
    "\n",
    "- `3 + 5` evaluates to `8`\n",
    "- `7 - 2` evaluates to `5`\n",
    "- `4 * 6` evaluates to `24`\n",
    "- `8 / 2` evaluates to `4.0`\n",
    "- `2 ** 3` evaluates to `8` (exponentiation)\n"
   ]
  },
  {
   "cell_type": "code",
   "execution_count": 10,
   "id": "d8768590-f82d-4022-ae44-49e6e0046743",
   "metadata": {},
   "outputs": [
    {
     "data": {
      "text/plain": [
       "17"
      ]
     },
     "execution_count": 10,
     "metadata": {},
     "output_type": "execute_result"
    }
   ],
   "source": [
    "# This is a simple arithmetic expression to multiply then add integers.\n",
    "result = (3 * 4) + 5\n",
    "result\n"
   ]
  },
  {
   "cell_type": "code",
   "execution_count": 12,
   "id": "e692ea10-d9b6-4b16-8ff8-d1987d729f7b",
   "metadata": {},
   "outputs": [
    {
     "data": {
      "text/plain": [
       "3.3333333333333335"
      ]
     },
     "execution_count": 12,
     "metadata": {},
     "output_type": "execute_result"
    }
   ],
   "source": [
    "# This will convert 200 minutes to hours by dividing by 60.\n",
    "minutes = 200\n",
    "hours = minutes / 60\n",
    "hours\n"
   ]
  },
  {
   "cell_type": "markdown",
   "id": "3fa01408-6a2a-4e29-84fa-724fc8927d3f",
   "metadata": {},
   "source": [
    "## Author\n",
    "\n",
    "name\n"
   ]
  },
  {
   "cell_type": "code",
   "execution_count": null,
   "id": "b5f3915f-9df3-47a8-abfb-e053ff61d7dc",
   "metadata": {},
   "outputs": [],
   "source": []
  }
 ],
 "metadata": {
  "kernelspec": {
   "display_name": "Python 3 (ipykernel)",
   "language": "python",
   "name": "python3"
  },
  "language_info": {
   "codemirror_mode": {
    "name": "ipython",
    "version": 3
   },
   "file_extension": ".py",
   "mimetype": "text/x-python",
   "name": "python",
   "nbconvert_exporter": "python",
   "pygments_lexer": "ipython3",
   "version": "3.12.4"
  }
 },
 "nbformat": 4,
 "nbformat_minor": 5
}
